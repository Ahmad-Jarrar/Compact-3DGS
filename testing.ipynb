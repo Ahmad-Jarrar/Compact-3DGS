{
 "cells": [
  {
   "cell_type": "code",
   "execution_count": 1,
   "id": "27bb5eb9-92e6-46ea-a794-f1122d5df04b",
   "metadata": {},
   "outputs": [
    {
     "name": "stderr",
     "output_type": "stream",
     "text": [
      "/scratch/cvlab/home/javed/anaconda3/envs/c3dgs/lib/python3.11/site-packages/vector_quantize_pytorch/vector_quantize_pytorch.py:462: FutureWarning: `torch.cuda.amp.autocast(args...)` is deprecated. Please use `torch.amp.autocast('cuda', args...)` instead.\n",
      "  @autocast(enabled = False)\n",
      "/scratch/cvlab/home/javed/anaconda3/envs/c3dgs/lib/python3.11/site-packages/vector_quantize_pytorch/vector_quantize_pytorch.py:647: FutureWarning: `torch.cuda.amp.autocast(args...)` is deprecated. Please use `torch.amp.autocast('cuda', args...)` instead.\n",
      "  @autocast(enabled = False)\n",
      "/scratch/cvlab/home/javed/anaconda3/envs/c3dgs/lib/python3.11/site-packages/vector_quantize_pytorch/finite_scalar_quantization.py:162: FutureWarning: `torch.cuda.amp.autocast(args...)` is deprecated. Please use `torch.amp.autocast('cuda', args...)` instead.\n",
      "  @autocast(enabled = False)\n"
     ]
    }
   ],
   "source": [
    "import os\n",
    "import torch\n",
    "from random import randint\n",
    "from utils.loss_utils import l1_loss, ssim\n",
    "from gaussian_renderer import render, network_gui\n",
    "import sys\n",
    "from scene import Scene, GaussianModel\n",
    "from utils.general_utils import safe_state\n",
    "import uuid\n",
    "from tqdm import tqdm\n",
    "from utils.image_utils import psnr\n",
    "from argparse import ArgumentParser, Namespace\n",
    "from arguments import ModelParams, PipelineParams, OptimizationParams"
   ]
  },
  {
   "cell_type": "code",
   "execution_count": 2,
   "id": "2287a555-6c7c-460c-80bd-cac13ec5f2c1",
   "metadata": {},
   "outputs": [
    {
     "name": "stdout",
     "output_type": "stream",
     "text": [
      "Optimizing output/bicycle_no_mlp_n_64_l_2\n"
     ]
    },
    {
     "data": {
      "text/plain": [
       "<torch.autograd.anomaly_mode.set_detect_anomaly at 0x7fde4ff4f9d0>"
      ]
     },
     "execution_count": 2,
     "metadata": {},
     "output_type": "execute_result"
    },
    {
     "name": "stdout",
     "output_type": "stream",
     "text": [
      "Loading trained model at iteration 30000 [20/09 13:49:22]\n",
      "Reading camera 194/194 [20/09 13:49:23]\n",
      "Loading Training Cameras [20/09 13:49:23]\n",
      "[ INFO ] Encountered quite large input images (>1.6K pixels width), rescaling to 1.6K.\n",
      " If this is not desired, please explicitly specify '--resolution/-r' as 1 [20/09 13:49:23]\n",
      "Loading Test Cameras [20/09 13:50:43]\n",
      "Loading  output/bicycle_no_mlp_n_64_l_2/point_cloud/iteration_30000/point_cloud.ply [20/09 13:50:43]\n",
      "Loading  output/bicycle_no_mlp_n_64_l_2.ply [20/09 13:54:16]\n",
      "Loading  output/bicycle_no_mlp_n_64_l_2/point_cloud/iteration_30000.ply [20/09 13:55:24]\n",
      "Loading  output/bicycle_no_mlp_n_64_l_2/point_cloud/iteration_30000/point_cloud.ply [20/09 13:55:34]\n"
     ]
    }
   ],
   "source": [
    "parser = ArgumentParser(description=\"Training script parameters\")\n",
    "lp = ModelParams(parser)\n",
    "op = OptimizationParams(parser)\n",
    "pp = PipelineParams(parser)\n",
    "parser.add_argument('--ip', type=str, default=\"127.0.0.1\")\n",
    "parser.add_argument('--port', type=int, default=6009)\n",
    "parser.add_argument('--debug_from', type=int, default=-1)\n",
    "parser.add_argument('--detect_anomaly', action='store_true', default=False)\n",
    "parser.add_argument(\"--test_iterations\", nargs=\"+\", type=int, default=[30_000])\n",
    "parser.add_argument(\"--save_iterations\", nargs=\"+\", type=int, default=[30_000])\n",
    "parser.add_argument(\"--quiet\", action=\"store_true\")\n",
    "parser.add_argument(\"--checkpoint_iterations\", nargs=\"+\", type=int, default=[])\n",
    "parser.add_argument(\"--start_checkpoint\", type=str, default = None)\n",
    "parser.add_argument(\"--comp\", action=\"store_true\")\n",
    "parser.add_argument(\"--store_npz\", action=\"store_true\")\n",
    "\n",
    "args = parser.parse_args([\"-s\", \"/scratch/cvlab/datasets/datasets_ahmad/mipNerf360/bicycle/\", \"-m\", \"output/bicycle_no_mlp_n_64_l_2\", \"--mlp_neurons\", \"64\", \"--mlp_layers\", \"2\", \"--use_trad_shs\", \"--post_training_mlp\"])\n",
    "args.save_iterations.append(args.iterations)\n",
    "\n",
    "print(\"Optimizing \" + args.model_path)\n",
    "\n",
    "# Initialize system state (RNG)\n",
    "safe_state(args.quiet)\n",
    "\n",
    "# Start GUI server, configure and run training\n",
    "network_gui.init(args.ip, args.port)\n",
    "torch.autograd.set_detect_anomaly(args.detect_anomaly)"
   ]
  },
  {
   "cell_type": "code",
   "execution_count": 3,
   "id": "14b03141-5b0d-4461-b276-3121d9f88b15",
   "metadata": {},
   "outputs": [],
   "source": [
    "dataset = lp.extract(args)\n",
    "opt = op.extract(args)\n",
    "pipe = pp.extract(args)"
   ]
  },
  {
   "cell_type": "code",
   "execution_count": 4,
   "id": "b5601ff1-4d59-485d-8031-5333f764b636",
   "metadata": {},
   "outputs": [
    {
     "name": "stderr",
     "output_type": "stream",
     "text": [
      "/scratch/cvlab/home/ajkhan/Compact-3DGS/scene/gaussian_model.py:518: FutureWarning: You are using `torch.load` with `weights_only=False` (the current default value), which uses the default pickle module implicitly. It is possible to construct malicious pickle data which will execute arbitrary code during unpickling (See https://github.com/pytorch/pytorch/blob/main/SECURITY.md#untrusted-models for more details). In a future release, the default value for `weights_only` will be flipped to `True`. This limits the functions that could be executed during unpickling. Arbitrary objects will no longer be allowed to be loaded via this mode unless they are explicitly allowlisted by the user via `torch.serialization.add_safe_globals`. We recommend you start setting `weights_only=True` for any use case where you don't have full control of the loaded file. Please open an issue on GitHub for any issues related to this experimental feature.\n",
      "  torch.nn.ModuleList([self.recolor, self.mlp_head]).load_state_dict(torch.load(path +\".pth\"))\n"
     ]
    }
   ],
   "source": [
    "gaussians = GaussianModel(dataset)\n",
    "scene = Scene(dataset, gaussians, load_iteration=\"30000\", shuffle=False)\n",
    "gaussians.training_setup(opt)"
   ]
  },
  {
   "cell_type": "code",
   "execution_count": 5,
   "id": "0ac211b3-8dac-4b46-a558-174a909fb7ff",
   "metadata": {},
   "outputs": [
    {
     "data": {
      "text/plain": [
       "scene.gaussian_model.GaussianModel"
      ]
     },
     "execution_count": 5,
     "metadata": {},
     "output_type": "execute_result"
    }
   ],
   "source": [
    "type(gaussians)"
   ]
  },
  {
   "cell_type": "code",
   "execution_count": 12,
   "id": "74d3eb67-250d-4b46-ad7e-c2eef53c9807",
   "metadata": {},
   "outputs": [
    {
     "data": {
      "text/plain": [
       "torch.Size([2578590, 1, 3])"
      ]
     },
     "execution_count": 12,
     "metadata": {},
     "output_type": "execute_result"
    }
   ],
   "source": [
    "gaussians.get_features.shape"
   ]
  },
  {
   "cell_type": "code",
   "execution_count": 13,
   "id": "2b1f1d79-df02-4a79-b630-bdc1db8d72d5",
   "metadata": {},
   "outputs": [
    {
     "data": {
      "text/plain": [
       "0"
      ]
     },
     "execution_count": 13,
     "metadata": {},
     "output_type": "execute_result"
    }
   ],
   "source": [
    "gaussians.max_sh_degree"
   ]
  },
  {
   "cell_type": "code",
   "execution_count": 11,
   "id": "bd9f0433-cc01-49a5-95a5-d23723efe66f",
   "metadata": {},
   "outputs": [],
   "source": [
    "gaussians.load_model(args.model_path+\"/point_cloud/iteration_30000/point_cloud\")"
   ]
  },
  {
   "cell_type": "code",
   "execution_count": 16,
   "id": "c44d299f-24ba-4b53-a4bf-0283b64c8927",
   "metadata": {},
   "outputs": [],
   "source": [
    "from plyfile import PlyData, PlyElement\n",
    "plydata = PlyData.read(args.model_path+\"/point_cloud/iteration_30000/point_cloud\"+\".ply\")"
   ]
  },
  {
   "cell_type": "code",
   "execution_count": 17,
   "id": "84319d3d-9be6-49b2-a1be-be6edf78f40f",
   "metadata": {},
   "outputs": [
    {
     "data": {
      "text/plain": [
       "PlyData((PlyElement('vertex', (PlyProperty('x', 'float'), PlyProperty('y', 'float'), PlyProperty('z', 'float'), PlyProperty('nx', 'float'), PlyProperty('ny', 'float'), PlyProperty('nz', 'float'), PlyProperty('f_dc_0', 'float'), PlyProperty('f_dc_1', 'float'), PlyProperty('f_dc_2', 'float'), PlyProperty('opacity', 'float'), PlyProperty('scale_0', 'float'), PlyProperty('scale_1', 'float'), PlyProperty('scale_2', 'float'), PlyProperty('rot_0', 'float'), PlyProperty('rot_1', 'float'), PlyProperty('rot_2', 'float'), PlyProperty('rot_3', 'float')), count=2578590, comments=[]),), text=False, byte_order='<', comments=[], obj_info=[])"
      ]
     },
     "execution_count": 17,
     "metadata": {},
     "output_type": "execute_result"
    }
   ],
   "source": [
    "plydata"
   ]
  },
  {
   "cell_type": "code",
   "execution_count": null,
   "id": "42ca1eb3-535a-4e79-adce-9d91b47cf05f",
   "metadata": {},
   "outputs": [],
   "source": []
  }
 ],
 "metadata": {
  "kernelspec": {
   "display_name": "Python 3 (ipykernel)",
   "language": "python",
   "name": "python3"
  },
  "language_info": {
   "codemirror_mode": {
    "name": "ipython",
    "version": 3
   },
   "file_extension": ".py",
   "mimetype": "text/x-python",
   "name": "python",
   "nbconvert_exporter": "python",
   "pygments_lexer": "ipython3",
   "version": "3.11.9"
  }
 },
 "nbformat": 4,
 "nbformat_minor": 5
}
